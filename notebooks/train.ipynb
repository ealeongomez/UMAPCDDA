{
 "cells": [
  {
   "cell_type": "code",
   "execution_count": 1,
   "id": "6a3d2ee5",
   "metadata": {
    "_cell_guid": "b1076dfc-b9ad-4769-8c92-a6c4dae69d19",
    "_uuid": "8f2839f25d086af736a60e9eeb907d3b93b6e0e5",
    "execution": {
     "iopub.execute_input": "2025-03-11T15:27:13.173690Z",
     "iopub.status.busy": "2025-03-11T15:27:13.173373Z",
     "iopub.status.idle": "2025-03-11T15:27:13.857658Z",
     "shell.execute_reply": "2025-03-11T15:27:13.856646Z"
    },
    "papermill": {
     "duration": 0.690629,
     "end_time": "2025-03-11T15:27:13.858992",
     "exception": false,
     "start_time": "2025-03-11T15:27:13.168363",
     "status": "completed"
    },
    "tags": []
   },
   "outputs": [
    {
     "name": "stdout",
     "output_type": "stream",
     "text": [
      "/kaggle/input/data_UMAPDA.pkl\n"
     ]
    }
   ],
   "source": [
    "# This Python 3 environment comes with many helpful analytics libraries installed\n",
    "# It is defined by the kaggle/python Docker image: https://github.com/kaggle/docker-python\n",
    "# For example, here's several helpful packages to load\n",
    "\n",
    "import numpy as np # linear algebra\n",
    "import pandas as pd # data processing, CSV file I/O (e.g. pd.read_csv)\n",
    "\n",
    "# Input data files are available in the read-only \"../input/\" directory\n",
    "# For example, running this (by clicking run or pressing Shift+Enter) will list all files under the input directory\n",
    "\n",
    "import os\n",
    "for dirname, _, filenames in os.walk('/kaggle/input'):\n",
    "    for filename in filenames:\n",
    "        print(os.path.join(dirname, filename))\n",
    "\n",
    "# You can write up to 20GB to the current directory (/kaggle/working/) that gets preserved as output when you create a version using \"Save & Run All\" \n",
    "# You can also write temporary files to /kaggle/temp/, but they won't be saved outside of the current session"
   ]
  },
  {
   "cell_type": "code",
   "execution_count": 2,
   "id": "b5a2baf0",
   "metadata": {
    "execution": {
     "iopub.execute_input": "2025-03-11T15:27:13.867058Z",
     "iopub.status.busy": "2025-03-11T15:27:13.866733Z",
     "iopub.status.idle": "2025-03-11T15:27:14.178768Z",
     "shell.execute_reply": "2025-03-11T15:27:14.178066Z"
    },
    "papermill": {
     "duration": 0.317476,
     "end_time": "2025-03-11T15:27:14.180236",
     "exception": false,
     "start_time": "2025-03-11T15:27:13.862760",
     "status": "completed"
    },
    "tags": []
   },
   "outputs": [],
   "source": [
    "import joblib\n",
    "path_ = '/kaggle/input/data_UMAPDA.pkl'\n",
    "\n",
    "dataset = joblib.load(path_) "
   ]
  },
  {
   "cell_type": "code",
   "execution_count": 3,
   "id": "42c1b9c6",
   "metadata": {
    "execution": {
     "iopub.execute_input": "2025-03-11T15:27:14.188350Z",
     "iopub.status.busy": "2025-03-11T15:27:14.188131Z",
     "iopub.status.idle": "2025-03-11T15:27:14.192901Z",
     "shell.execute_reply": "2025-03-11T15:27:14.192282Z"
    },
    "papermill": {
     "duration": 0.009927,
     "end_time": "2025-03-11T15:27:14.194001",
     "exception": false,
     "start_time": "2025-03-11T15:27:14.184074",
     "status": "completed"
    },
    "tags": []
   },
   "outputs": [
    {
     "data": {
      "text/plain": [
       "dict_keys(['Xc', 'Yc', 'names_', 'label_dat', 'max_', 'ths', 'ind_total', 'ind_source', 'ind_target', 'ind_total_aug'])"
      ]
     },
     "execution_count": 3,
     "metadata": {},
     "output_type": "execute_result"
    }
   ],
   "source": [
    "dataset.keys()\n",
    "#ind_total_aug thresholds vs Datasets"
   ]
  },
  {
   "cell_type": "code",
   "execution_count": 4,
   "id": "db7561c3",
   "metadata": {
    "execution": {
     "iopub.execute_input": "2025-03-11T15:27:14.201575Z",
     "iopub.status.busy": "2025-03-11T15:27:14.201367Z",
     "iopub.status.idle": "2025-03-11T15:27:14.205907Z",
     "shell.execute_reply": "2025-03-11T15:27:14.205201Z"
    },
    "papermill": {
     "duration": 0.009488,
     "end_time": "2025-03-11T15:27:14.207005",
     "exception": false,
     "start_time": "2025-03-11T15:27:14.197517",
     "status": "completed"
    },
    "tags": []
   },
   "outputs": [
    {
     "name": "stdout",
     "output_type": "stream",
     "text": [
      "(162036, 20) (162036, 7)\n"
     ]
    }
   ],
   "source": [
    "Xc = dataset['Xc']\n",
    "Yc = dataset['Yc']\n",
    "label_dat = dataset['label_dat'].ravel()\n",
    "names_ = dataset['names_']\n",
    "ths = dataset['ths']\n",
    "ind_total_aug = dataset['ind_total_aug']\n",
    "\n",
    "print(Xc.shape,Yc.shape)"
   ]
  },
  {
   "cell_type": "code",
   "execution_count": 5,
   "id": "912f2131",
   "metadata": {
    "execution": {
     "iopub.execute_input": "2025-03-11T15:27:14.214512Z",
     "iopub.status.busy": "2025-03-11T15:27:14.214324Z",
     "iopub.status.idle": "2025-03-11T15:27:14.218297Z",
     "shell.execute_reply": "2025-03-11T15:27:14.217701Z"
    },
    "papermill": {
     "duration": 0.008885,
     "end_time": "2025-03-11T15:27:14.219380",
     "exception": false,
     "start_time": "2025-03-11T15:27:14.210495",
     "status": "completed"
    },
    "tags": []
   },
   "outputs": [
    {
     "data": {
      "text/plain": [
       "['Argone', 'Beijing', 'Chengdu']"
      ]
     },
     "execution_count": 5,
     "metadata": {},
     "output_type": "execute_result"
    }
   ],
   "source": [
    "names_"
   ]
  },
  {
   "cell_type": "markdown",
   "id": "dd67cd7a",
   "metadata": {
    "papermill": {
     "duration": 0.003359,
     "end_time": "2025-03-11T15:27:14.226243",
     "exception": false,
     "start_time": "2025-03-11T15:27:14.222884",
     "status": "completed"
    },
    "tags": []
   },
   "source": [
    "# Original data"
   ]
  },
  {
   "cell_type": "code",
   "execution_count": 6,
   "id": "bb5fc316",
   "metadata": {
    "execution": {
     "iopub.execute_input": "2025-03-11T15:27:14.233832Z",
     "iopub.status.busy": "2025-03-11T15:27:14.233631Z",
     "iopub.status.idle": "2025-03-11T15:27:15.288802Z",
     "shell.execute_reply": "2025-03-11T15:27:15.287861Z"
    },
    "papermill": {
     "duration": 1.060738,
     "end_time": "2025-03-11T15:27:15.290445",
     "exception": false,
     "start_time": "2025-03-11T15:27:14.229707",
     "status": "completed"
    },
    "tags": []
   },
   "outputs": [],
   "source": [
    "from sklearn.model_selection import train_test_split\n",
    "train_size = 0.8\n",
    "val_size = 0.2\n",
    "random_state = 123\n",
    "\n",
    "#### cambiar dataset y ths\n",
    "datai = 1 # 1: Argone, 2: Beijing, 3: Chengdu\n",
    "thj = 0 # 0: 0.001, 1: 0.002, 2: 0.005, 3: 0.007, 4: 0.01, 5:  0.02\n",
    "\n",
    "X_ = Xc[label_dat==datai]\n",
    "Y_ = Yc[label_dat==datai]\n",
    "nsamples = X_.shape[0]\n",
    "Xtrain_ = X_[:int(nsamples*train_size)]\n",
    "Xtest = X_[int(nsamples*train_size):]\n",
    "Ytrain_ = Y_[:int(nsamples*train_size)]\n",
    "Ytest = Y_[int(nsamples*train_size):]\n",
    "\n",
    "Xtrain, Xval, Ytrain, Yval = train_test_split(Xtrain_,Ytrain_, test_size=val_size, \n",
    "                                              random_state=random_state, shuffle=True)\n",
    "\n"
   ]
  },
  {
   "cell_type": "markdown",
   "id": "d314fc7d",
   "metadata": {
    "papermill": {
     "duration": 0.003923,
     "end_time": "2025-03-11T15:27:15.298484",
     "exception": false,
     "start_time": "2025-03-11T15:27:15.294561",
     "status": "completed"
    },
    "tags": []
   },
   "source": [
    "# Data augmentation"
   ]
  },
  {
   "cell_type": "code",
   "execution_count": 7,
   "id": "fe22071d",
   "metadata": {
    "execution": {
     "iopub.execute_input": "2025-03-11T15:27:15.306679Z",
     "iopub.status.busy": "2025-03-11T15:27:15.306256Z",
     "iopub.status.idle": "2025-03-11T15:27:15.318391Z",
     "shell.execute_reply": "2025-03-11T15:27:15.317718Z"
    },
    "papermill": {
     "duration": 0.017533,
     "end_time": "2025-03-11T15:27:15.319717",
     "exception": false,
     "start_time": "2025-03-11T15:27:15.302184",
     "status": "completed"
    },
    "tags": []
   },
   "outputs": [
    {
     "name": "stdout",
     "output_type": "stream",
     "text": [
      "Augmented samples 2400\n",
      "All: (54315, 20),(54315, 7)\n",
      "Train_o: (34761, 20),(34761, 7)\n",
      "Train_a: (37161, 20),(37161, 7)--Th=0.001\n",
      "Val: (8691, 20),(8691, 7)\n",
      "Test: (10863, 20),(10863, 7)\n"
     ]
    }
   ],
   "source": [
    "vec_ = ind_total_aug[thj][datai]\n",
    "Xtrain_a = np.r_[Xtrain,Xc[vec_]]\n",
    "Ytrain_a = np.r_[Ytrain,Yc[vec_]]\n",
    "\n",
    "print(f\"Augmented samples {len(vec_)}\")\n",
    "\n",
    "print(f\"All: {X_.shape},{Y_.shape}\")\n",
    "print(f\"Train_o: {Xtrain.shape},{Ytrain.shape}\") # datos sin data augmentation\n",
    "print(f\"Train_a: {Xtrain_a.shape},{Ytrain_a.shape}--Th={ths[thj]}\") #datos para entrenar con data augmentation segun umbral thj\n",
    "print(f\"Val: {Xval.shape},{Yval.shape}\")\n",
    "print(f\"Test: {Xtest.shape},{Ytest.shape}\")"
   ]
  },
  {
   "cell_type": "markdown",
   "id": "ddd9d29d",
   "metadata": {
    "papermill": {
     "duration": 0.003491,
     "end_time": "2025-03-11T15:27:15.326837",
     "exception": false,
     "start_time": "2025-03-11T15:27:15.323346",
     "status": "completed"
    },
    "tags": []
   },
   "source": [
    "# Train and test network"
   ]
  },
  {
   "cell_type": "code",
   "execution_count": 8,
   "id": "8c52748f",
   "metadata": {
    "execution": {
     "iopub.execute_input": "2025-03-11T15:27:15.334628Z",
     "iopub.status.busy": "2025-03-11T15:27:15.334388Z",
     "iopub.status.idle": "2025-03-11T15:27:26.326644Z",
     "shell.execute_reply": "2025-03-11T15:27:26.325879Z"
    },
    "papermill": {
     "duration": 10.997838,
     "end_time": "2025-03-11T15:27:26.328177",
     "exception": false,
     "start_time": "2025-03-11T15:27:15.330339",
     "status": "completed"
    },
    "tags": []
   },
   "outputs": [],
   "source": [
    "import os\n",
    "import numpy as np\n",
    "import pandas as pd\n",
    "import tensorflow as tf\n",
    "from tensorflow import keras\n",
    "from sklearn.metrics import mean_squared_error, mean_absolute_error, r2_score, mean_absolute_percentage_error\n",
    "from tabulate import tabulate\n",
    "from sklearn.model_selection import TimeSeriesSplit\n",
    "\n",
    "# Configurar TensorFlow para entrenamiento en múltiples GPUs\n",
    "os.environ['TF_CPP_MIN_LOG_LEVEL'] = '2'\n",
    "\n",
    "# Función de pérdida personalizada: Kernel MSE\n",
    "def kernel_mse_loss(y_true, y_pred):\n",
    "    sigma = tf.sqrt(2.0) / 2.0\n",
    "    diff = tf.square(y_true - y_pred)\n",
    "    return tf.reduce_mean(1.0 - tf.exp(-diff / (2.0 * sigma**2)))\n",
    "\n",
    "# Función MAPE personalizada con umbral\n",
    "#def calculate_mape(y_true, y_pred, threshold=1e-2):\n",
    "#    y_true_safe = np.where(np.abs(y_true) < threshold, threshold, y_true)\n",
    "#    return mean_absolute_percentage_error(y_true_safe, y_pred) * 100\n",
    "\n",
    "def calculate_mape(y_true, y_pred, threshold=1e-2):\n",
    "    # Creamos una máscara para los valores de y_true que sean suficientemente grandes\n",
    "    mask = np.abs(y_true) >= threshold\n",
    "    if not np.any(mask):\n",
    "        raise ValueError(\"Ningún valor en y_true cumple la condición de ser mayor o igual al threshold\")\n",
    "    # Calculamos el MAPE usando únicamente los valores que pasan la máscara\n",
    "    mape = np.mean(np.abs((y_true[mask] - y_pred[mask]) / np.abs(y_true[mask]))) * 100\n",
    "    return mape"
   ]
  },
  {
   "cell_type": "code",
   "execution_count": 9,
   "id": "77a4102f",
   "metadata": {
    "execution": {
     "iopub.execute_input": "2025-03-11T15:27:26.337213Z",
     "iopub.status.busy": "2025-03-11T15:27:26.336761Z",
     "iopub.status.idle": "2025-03-11T15:27:26.349928Z",
     "shell.execute_reply": "2025-03-11T15:27:26.349311Z"
    },
    "papermill": {
     "duration": 0.018725,
     "end_time": "2025-03-11T15:27:26.351071",
     "exception": false,
     "start_time": "2025-03-11T15:27:26.332346",
     "status": "completed"
    },
    "tags": []
   },
   "outputs": [],
   "source": [
    "class ForecastingModels:\n",
    "    def __init__(self, X_train, y_train, X_valid, y_valid, X_test, y_test, neurons, num_layers, batch_size, epochs, loss_function): \n",
    "\n",
    "        if len(X_train.shape) == 2:\n",
    "            X_train = np.expand_dims(X_train, axis=-1)\n",
    "        if len(X_valid.shape) == 2:\n",
    "            X_valid = np.expand_dims(X_valid, axis=-1)\n",
    "        if len(X_test.shape) == 2:\n",
    "            X_test = np.expand_dims(X_test, axis=-1)\n",
    "        \n",
    "        self.X_train = X_train\n",
    "        self.y_train = y_train\n",
    "        self.X_valid = X_valid\n",
    "        self.y_valid = y_valid\n",
    "        self.X_test = X_test        \n",
    "        self.y_test = y_test\n",
    "        self.neurons = neurons\n",
    "        self.num_layers = num_layers\n",
    "        self.batch_size = batch_size\n",
    "        self.epochs = epochs  \n",
    "        self.predictionHorizon = self.y_train.shape[1] if len(self.y_train.shape) > 1 else 1\n",
    "\n",
    "        # Selección de la función de pérdida\n",
    "        loss_functions = {\n",
    "            \"mse\": \"mse\",\n",
    "            \"mae\": \"mae\",\n",
    "            \"KernelMSE\": kernel_mse_loss\n",
    "        }\n",
    "\n",
    "        if loss_function not in loss_functions:\n",
    "            raise ValueError(\"Invalid loss function. Choose 'mse', 'mae', or 'KernelMSE'\")\n",
    "\n",
    "        self.loss_function = loss_functions[loss_function]\n",
    "\n",
    "    def Performance_Metrics(self, forecasting_test):\n",
    "        metrics = {\"MSE\": [], \"RMSE\": [], \"MAE\": [], \"MAPE\": [], \"R2\": []}\n",
    "        global_metrics = {\"MSE Global\": [], \"RMSE Global\": [], \"MAE Global\": [], \"MAPE Global\": [], \"R2 Global\": []}\n",
    "\n",
    "        for k in range(self.predictionHorizon):\n",
    "            y_true, y_pred = self.y_test[:, k]*40.23, forecasting_test[:, k]*40.23\n",
    "\n",
    "            metrics[\"MSE\"].append(round(mean_squared_error(y_true, y_pred), 3))\n",
    "            metrics[\"RMSE\"].append(round(np.sqrt(mean_squared_error(y_true, y_pred)), 3))\n",
    "            metrics[\"MAE\"].append(round(mean_absolute_error(y_true, y_pred), 3))\n",
    "            metrics[\"MAPE\"].append(round(calculate_mape(y_true, y_pred), 3))\n",
    "            metrics[\"R2\"].append(round(r2_score(y_true, y_pred), 3))\n",
    "\n",
    "            # Métricas acumuladas sin flatten()\n",
    "            #y_true_cumulative = self.y_test[:, :k].ravel()\n",
    "            #y_pred_cumulative = forecasting_test[:, :k].ravel()*40.23\n",
    "            y_true_cumulative = self.y_test[:, :k+1].ravel()\n",
    "            y_pred_cumulative = forecasting_test[:, :k+1].ravel()\n",
    "\n",
    "            \n",
    "            if y_true_cumulative.size == 0 or y_pred_cumulative.size == 0:\n",
    "                continue\n",
    "    \n",
    "            global_metrics[\"MSE Global\"].append(mean_squared_error(y_true_cumulative, y_pred_cumulative))\n",
    "            global_metrics[\"RMSE Global\"].append(np.sqrt(global_metrics[\"MSE Global\"][-1]))\n",
    "            global_metrics[\"MAE Global\"].append(mean_absolute_error(y_true_cumulative, y_pred_cumulative))\n",
    "            global_metrics[\"MAPE Global\"].append(calculate_mape(y_true_cumulative, y_pred_cumulative))\n",
    "            global_metrics[\"R2 Global\"].append(r2_score(y_true_cumulative, y_pred_cumulative))\n",
    "            \n",
    "        return metrics, global_metrics\n",
    "\n",
    "    def build_and_train_model(self, model_type, X_train, y_train, X_valid, y_valid):\n",
    "        strategy = tf.distribute.MirroredStrategy()\n",
    "        with strategy.scope():\n",
    "            input_layer = keras.layers.Input(shape=(X_train.shape[1], X_train.shape[2]), name='Input')\n",
    "            layer = input_layer\n",
    "\n",
    "            for i in range(self.num_layers):\n",
    "                return_sequences = i < self.num_layers - 1\n",
    "                RNNLayer = {\"RNN\": keras.layers.SimpleRNN,\n",
    "                            \"GRU\": keras.layers.GRU,\n",
    "                            \"LSTM\": keras.layers.LSTM}.get(model_type)\n",
    "\n",
    "                if not RNNLayer:\n",
    "                    raise ValueError(\"Invalid model type\")\n",
    "\n",
    "                layer = RNNLayer(self.neurons, activation='relu', return_sequences=return_sequences, name=f'h{i+1}')(layer)\n",
    "\n",
    "            output_layer = keras.layers.Dense(self.predictionHorizon, name='Output')(layer)\n",
    "            model = keras.Model(inputs=input_layer, outputs=output_layer)\n",
    "            model.compile(loss=self.loss_function, optimizer=keras.optimizers.Adam(learning_rate=1e-3), metrics=['mae', 'mse'])\n",
    "            history = model.fit(X_train, y_train, epochs=self.epochs, batch_size=self.batch_size, validation_data=(X_valid, y_valid), verbose=0)\n",
    "        \n",
    "        return model, history\n",
    "\n",
    "    def train_model(self, model_type):\n",
    "        model, history = self.build_and_train_model(model_type, self.X_train, self.y_train, self.X_valid, self.y_valid)\n",
    "        y_pred = model.predict(self.X_test)\n",
    "        metrics, global_metrics = self.Performance_Metrics(y_pred)\n",
    "        return metrics, global_metrics, history, y_pred\n",
    "\n",
    "    def RNNSimple_Model(self):\n",
    "        return self.train_model('RNN')\n",
    "\n",
    "    def GRU_Model(self):\n",
    "        return self.train_model('GRU')\n",
    "\n",
    "    def LSTM_Model(self):\n",
    "        return self.train_model('LSTM')"
   ]
  },
  {
   "cell_type": "code",
   "execution_count": 10,
   "id": "171c1639",
   "metadata": {
    "execution": {
     "iopub.execute_input": "2025-03-11T15:27:26.358864Z",
     "iopub.status.busy": "2025-03-11T15:27:26.358654Z",
     "iopub.status.idle": "2025-03-11T15:27:26.362958Z",
     "shell.execute_reply": "2025-03-11T15:27:26.362337Z"
    },
    "papermill": {
     "duration": 0.009372,
     "end_time": "2025-03-11T15:27:26.364048",
     "exception": false,
     "start_time": "2025-03-11T15:27:26.354676",
     "status": "completed"
    },
    "tags": []
   },
   "outputs": [
    {
     "data": {
      "text/plain": [
       "((37161, 20), (37161, 7), (8691, 20), (8691, 7), (10863, 20), (10863, 7))"
      ]
     },
     "execution_count": 10,
     "metadata": {},
     "output_type": "execute_result"
    }
   ],
   "source": [
    "Xtrain_a.shape, Ytrain_a.shape, Xval.shape, Yval.shape, Xtest.shape, Ytest.shape"
   ]
  },
  {
   "cell_type": "code",
   "execution_count": 11,
   "id": "fd1688a3",
   "metadata": {
    "execution": {
     "iopub.execute_input": "2025-03-11T15:27:26.372395Z",
     "iopub.status.busy": "2025-03-11T15:27:26.372189Z",
     "iopub.status.idle": "2025-03-11T15:27:26.374879Z",
     "shell.execute_reply": "2025-03-11T15:27:26.374277Z"
    },
    "papermill": {
     "duration": 0.00798,
     "end_time": "2025-03-11T15:27:26.375961",
     "exception": false,
     "start_time": "2025-03-11T15:27:26.367981",
     "status": "completed"
    },
    "tags": []
   },
   "outputs": [],
   "source": [
    "### Aca entrenar y evaluar redes, dejando fijos los xtrain_a, xval, xtest y las respectivas salidas tal y como las fijamos\n",
    "# en la celda anterior. \n",
    "\n",
    "# para cambiar de dataset y umbral cambiar datai y thj\n",
    "# datai = 1 # 1: Argone, 2: Beijing, 3: Chengdu\n",
    "# thj = 0 # 0: 0.001, 1: 0.002, 2: 0.005, 3: 0.007, 4: 0.01, 5:  0.02\n"
   ]
  },
  {
   "cell_type": "code",
   "execution_count": 12,
   "id": "423a967e",
   "metadata": {
    "execution": {
     "iopub.execute_input": "2025-03-11T15:27:26.383825Z",
     "iopub.status.busy": "2025-03-11T15:27:26.383626Z",
     "iopub.status.idle": "2025-03-11T15:27:26.386175Z",
     "shell.execute_reply": "2025-03-11T15:27:26.385626Z"
    },
    "papermill": {
     "duration": 0.007657,
     "end_time": "2025-03-11T15:27:26.387319",
     "exception": false,
     "start_time": "2025-03-11T15:27:26.379662",
     "status": "completed"
    },
    "tags": []
   },
   "outputs": [],
   "source": [
    "import time\n",
    "import matplotlib.pyplot as plt "
   ]
  },
  {
   "cell_type": "code",
   "execution_count": 13,
   "id": "cb05169a",
   "metadata": {
    "execution": {
     "iopub.execute_input": "2025-03-11T15:27:26.396171Z",
     "iopub.status.busy": "2025-03-11T15:27:26.395951Z",
     "iopub.status.idle": "2025-03-11T15:27:26.399966Z",
     "shell.execute_reply": "2025-03-11T15:27:26.399329Z"
    },
    "papermill": {
     "duration": 0.009795,
     "end_time": "2025-03-11T15:27:26.401102",
     "exception": false,
     "start_time": "2025-03-11T15:27:26.391307",
     "status": "completed"
    },
    "tags": []
   },
   "outputs": [
    {
     "data": {
      "text/plain": [
       "['Argone', 'Beijing', 'Chengdu']"
      ]
     },
     "execution_count": 13,
     "metadata": {},
     "output_type": "execute_result"
    }
   ],
   "source": [
    "names_"
   ]
  },
  {
   "cell_type": "code",
   "execution_count": 14,
   "id": "cd1045da",
   "metadata": {
    "execution": {
     "iopub.execute_input": "2025-03-11T15:27:26.409098Z",
     "iopub.status.busy": "2025-03-11T15:27:26.408902Z",
     "iopub.status.idle": "2025-03-12T00:02:35.071250Z",
     "shell.execute_reply": "2025-03-12T00:02:35.070480Z"
    },
    "papermill": {
     "duration": 30908.667898,
     "end_time": "2025-03-12T00:02:35.072700",
     "exception": false,
     "start_time": "2025-03-11T15:27:26.404802",
     "status": "completed"
    },
    "tags": []
   },
   "outputs": [
    {
     "name": "stdout",
     "output_type": "stream",
     "text": [
      "\n",
      "\t Argone--th=0.0\n",
      "Augmented samples 0-- per DA=0.0%\n",
      "All: (54315, 20),(54315, 7)\n",
      "Train_o: (34761, 20),(34761, 7)\n",
      "Train_a: (34761, 20),(34761, 7)\n",
      "Val: (8691, 20),(8691, 7)\n",
      "Test: (10863, 20),(10863, 7)\n",
      "\u001b[1m340/340\u001b[0m \u001b[32m━━━━━━━━━━━━━━━━━━━━\u001b[0m\u001b[37m\u001b[0m \u001b[1m4s\u001b[0m 10ms/step\n",
      "[0.8873590019287748, 0.8281584554923281, 0.7697555943119194, 0.7092175026593621, 0.6509177611950987, 0.5938820637619648, 0.5365492555453313] [16.439430378478924, 20.11454561306297, 23.132127555713534, 25.7747425746221, 28.002009944517326, 29.936215297934766, 31.608100202029952] [1.0155812135866902, 1.2387168367069465, 1.4259453912404483, 1.595571533401489, 1.7451916952234139, 1.8810820443992577, 2.007528858024031]\n",
      "Time RNNSimple_Model: 244.39619396100002 [s]\n",
      "\u001b[1m340/340\u001b[0m \u001b[32m━━━━━━━━━━━━━━━━━━━━\u001b[0m\u001b[37m\u001b[0m \u001b[1m4s\u001b[0m 12ms/step\n",
      "[0.890838680301848, 0.8293218882814314, 0.7688183897837595, 0.7100947435633223, 0.65162075139503, 0.596192062448793, 0.5398832974565446] [15.820364781456666, 19.63918929452579, 22.824187585772666, 25.53795224072639, 27.80521748304155, 29.78910011479421, 31.447355527044934] [0.9961900597804708, 1.2306890028925281, 1.4242228154124463, 1.591193780308653, 1.7421283244928647, 1.876162996055517, 2.001371487346231]\n",
      "Time GRU_Model: 387.958635607 [s]\n",
      "\u001b[1m340/340\u001b[0m \u001b[32m━━━━━━━━━━━━━━━━━━━━\u001b[0m\u001b[37m\u001b[0m \u001b[1m4s\u001b[0m 12ms/step\n",
      "[-0.6296553775822975, -0.6277408567261575, -0.6269531898293648, -0.623187130602685, -0.6216360038805482, -0.6190801497277634, -0.618526245295898] [45.52198301552096, 45.513122959379345, 45.509629813834614, 45.49202652375252, 45.48484711344954, 45.472981431243234, 45.470496850414236] [3.8245614368270515, 3.8219114515218005, 3.8208580045077634, 3.8156056111330576, 3.8134620530424246, 3.8099135388558074, 3.8091738340070513]\n",
      "Time LSTM_Model: 280.9973944679999 [s]\n",
      "\n",
      "\t Argone--th=0.001\n",
      "Augmented samples 2016-- per DA=5.8%\n",
      "All: (54315, 20),(54315, 7)\n",
      "Train_o: (34761, 20),(34761, 7)\n",
      "Train_a: (36777, 20),(36777, 7)\n",
      "Val: (8691, 20),(8691, 7)\n",
      "Test: (10863, 20),(10863, 7)\n",
      "\u001b[1m340/340\u001b[0m \u001b[32m━━━━━━━━━━━━━━━━━━━━\u001b[0m\u001b[37m\u001b[0m \u001b[1m4s\u001b[0m 10ms/step\n",
      "[0.8850821891726435, 0.824210287047247, 0.7641370502453806, 0.7039047824755849, 0.6454488385125643, 0.5874185526444922, 0.5313718653632586] [16.268701685032564, 20.042077945344097, 23.13321056802313, 25.666719280294785, 27.870064156182668, 29.871794755377536, 31.550134961541332] [1.0267691667850511, 1.255583259761745, 1.4463530090216674, 1.6133906792411377, 1.761868547050134, 1.8994152580212829, 2.0233392749101906]\n",
      "Time RNNSimple_Model: 260.304837182 [s]\n",
      "\u001b[1m340/340\u001b[0m \u001b[32m━━━━━━━━━━━━━━━━━━━━\u001b[0m\u001b[37m\u001b[0m \u001b[1m4s\u001b[0m 12ms/step\n",
      "[0.8913548286351195, 0.8331356963997922, 0.7734117872580113, 0.714227213266828, 0.6593389618069533, 0.6009947442611348, 0.5422532718731785] [16.658513730013844, 20.16627862640308, 22.85500574295209, 25.167677503028692, 27.236265483304262, 29.003265147793915, 30.521523290853985] [1.000765647619543, 1.2228490913549663, 1.412658710335759, 1.5780279994171142, 1.7207771575883486, 1.8585149689952558, 1.9858890059287106]\n",
      "Time GRU_Model: 409.7568203469998 [s]\n",
      "\u001b[1m340/340\u001b[0m \u001b[32m━━━━━━━━━━━━━━━━━━━━\u001b[0m\u001b[37m\u001b[0m \u001b[1m4s\u001b[0m 12ms/step\n",
      "[0.8825081406452389, 0.8213527144628635, 0.7649843438918984, 0.7078853592212015, 0.656411915189631, 0.5927508405067837, 0.5309639853160341] [17.26748636017436, 20.832119457852798, 23.669564899488456, 26.014328532187754, 28.272072308235458, 30.048952281754726, 31.489168527365912] [1.0365485924751754, 1.262223533162269, 1.4422579083273983, 1.601914018323098, 1.7370849837761693, 1.8803590489493185, 2.009546640816035]\n",
      "Time LSTM_Model: 296.114166825 [s]\n",
      "\n",
      "\t Argone--th=0.002\n",
      "Augmented samples 7531-- per DA=21.7%\n",
      "All: (54315, 20),(54315, 7)\n",
      "Train_o: (34761, 20),(34761, 7)\n",
      "Train_a: (42292, 20),(42292, 7)\n",
      "Val: (8691, 20),(8691, 7)\n",
      "Test: (10863, 20),(10863, 7)\n",
      "\u001b[1m340/340\u001b[0m \u001b[32m━━━━━━━━━━━━━━━━━━━━\u001b[0m\u001b[37m\u001b[0m \u001b[1m4s\u001b[0m 10ms/step\n",
      "[0.8880372253372827, 0.8259631259178435, 0.7661660986629361, 0.7075681519189849, 0.6489791386851069, 0.5908283594094097, 0.5314365023661585] [16.242839446769032, 20.091274743506787, 23.176633336687388, 25.737505278074448, 27.851956743338068, 29.604918563814515, 31.07902148780418] [1.014536572863447, 1.248925040375733, 1.4406406566357728, 1.604776486203803, 1.7529006040640367, 1.8873876865288577, 2.012768531956199]\n",
      "Time RNNSimple_Model: 282.85158507599976 [s]\n",
      "\u001b[1m340/340\u001b[0m \u001b[32m━━━━━━━━━━━━━━━━━━━━\u001b[0m\u001b[37m\u001b[0m \u001b[1m4s\u001b[0m 12ms/step\n",
      "[0.8880068351165066, 0.8270013836375527, 0.7681744237711385, 0.7146632483851234, 0.6617374103925101, 0.6094895818233397, 0.5590795345033284] [15.735240214713084, 19.402435327936892, 22.35118672671745, 24.93298143514391, 27.108755372758566, 28.962862029498886, 30.573658151590845] [1.0094488008178355, 1.2405041618652461, 1.4281552404804863, 1.580909111952953, 1.7198809843129637, 1.8458039015515262, 1.9597329904320402]\n",
      "Time GRU_Model: 464.1184766749998 [s]\n",
      "\u001b[1m340/340\u001b[0m \u001b[32m━━━━━━━━━━━━━━━━━━━━\u001b[0m\u001b[37m\u001b[0m \u001b[1m4s\u001b[0m 12ms/step\n",
      "[0.8915901796004344, 0.8312607039861273, 0.7724677883172719, 0.7155295624289172, 0.6531916934390316, 0.5876746680340659, 0.5096557781428767] [15.997159035877385, 19.72929574144249, 22.83987378694496, 25.370506420818888, 27.422445863580002, 29.1526361102327, 30.716286401112043] [0.9928467165057548, 1.2247432848515678, 1.414545277216599, 1.5766275712344282, 1.7324631023090493, 1.8801126025621009, 2.0350339131995785]\n",
      "Time LSTM_Model: 329.09686245500006 [s]\n",
      "\n",
      "\t Argone--th=0.005\n",
      "Augmented samples 30289-- per DA=87.1%\n",
      "All: (54315, 20),(54315, 7)\n",
      "Train_o: (34761, 20),(34761, 7)\n",
      "Train_a: (65050, 20),(65050, 7)\n",
      "Val: (8691, 20),(8691, 7)\n",
      "Test: (10863, 20),(10863, 7)\n",
      "\u001b[1m340/340\u001b[0m \u001b[32m━━━━━━━━━━━━━━━━━━━━\u001b[0m\u001b[37m\u001b[0m \u001b[1m4s\u001b[0m 10ms/step\n",
      "[0.8902376220892109, 0.8273202581783977, 0.7666375190624749, 0.7060074979818927, 0.6407364532865096, 0.5490474331804153, 0.4383684941207322] [15.812558884967235, 19.695990061150116, 22.82928275056193, 25.36885766019355, 27.44153314237654, 29.227159658966674, 30.892908012898417] [1.0021623451993094, 1.2414891156710874, 1.4362143319000393, 1.605424036856713, 1.7658654897416879, 1.952853602285219, 2.150907637133854]\n",
      "Time RNNSimple_Model: 409.9142100699996 [s]\n",
      "\u001b[1m340/340\u001b[0m \u001b[32m━━━━━━━━━━━━━━━━━━━━\u001b[0m\u001b[37m\u001b[0m \u001b[1m5s\u001b[0m 13ms/step\n",
      "[0.8935023935096517, 0.8334816662472778, 0.77387525853311, 0.7157716443359181, 0.6570625523455209, 0.5488360996167276, 0.39491348958870454] [16.23085814927048, 19.96304381397291, 23.04741136188596, 25.62933086761018, 27.79524129558212, 29.61908411829912, 31.61832057175956] [0.9902273198733682, 1.2213397780513167, 1.4135816526684386, 1.5798586786790283, 1.732108337262361, 1.9465556798839345, 2.1979382974742685]\n",
      "Time GRU_Model: 682.723680216 [s]\n",
      "\u001b[1m340/340\u001b[0m \u001b[32m━━━━━━━━━━━━━━━━━━━━\u001b[0m\u001b[37m\u001b[0m \u001b[1m4s\u001b[0m 12ms/step\n",
      "[0.8844946229563512, 0.824226455021249, 0.7609181281734279, 0.7024966751182393, 0.6404530519667995, 0.5823281784564366, 0.5179730532721627] [15.886662417473271, 19.62062296238967, 22.587914522957334, 25.220861753369554, 27.3489267007637, 29.25769405307998, 30.8515710809064] [1.0319355196868816, 1.2586386752006378, 1.4568481146442551, 1.6204807485316526, 1.7730676704097066, 1.9069883554398614, 2.040680294431051]\n",
      "Time LSTM_Model: 495.8815551810003 [s]\n",
      "\n",
      "\t Argone--th=0.007\n",
      "Augmented samples 40880-- per DA=117.6%\n",
      "All: (54315, 20),(54315, 7)\n",
      "Train_o: (34761, 20),(34761, 7)\n",
      "Train_a: (75641, 20),(75641, 7)\n",
      "Val: (8691, 20),(8691, 7)\n",
      "Test: (10863, 20),(10863, 7)\n",
      "\u001b[1m340/340\u001b[0m \u001b[32m━━━━━━━━━━━━━━━━━━━━\u001b[0m\u001b[37m\u001b[0m \u001b[1m4s\u001b[0m 10ms/step\n",
      "[0.893651488888326, 0.8322044903295217, 0.772482805049979, 0.711846067767456, 0.646963014249855, 0.560761789131591, 0.4611431452313769] [16.162425687432762, 19.921483527209542, 22.976213140306893, 25.45419601745951, 27.509367274169477, 29.25407131889804, 30.837081995407583] [0.9855137436154864, 1.2216449217950838, 1.4150624446539097, 1.5856617379395945, 1.746766245874814, 1.9266842602623395, 2.112131640210122]\n",
      "Time RNNSimple_Model: 474.77268065000044 [s]\n",
      "\u001b[1m340/340\u001b[0m \u001b[32m━━━━━━━━━━━━━━━━━━━━\u001b[0m\u001b[37m\u001b[0m \u001b[1m4s\u001b[0m 12ms/step\n",
      "[0.885894272344881, 0.8233442452759162, 0.7593126403168735, 0.6845805571906527, 0.6129828897040175, 0.5483463438068445, 0.4758963819287827] [15.718292541890097, 19.478243138584357, 22.435843372449614, 25.020000742671268, 27.236023523330203, 29.133320342194995, 30.756063748846678] [1.0178928361798938, 1.2534326511205567, 1.4522818055141262, 1.6467470551310492, 1.8160710712656687, 1.9586557081870775, 2.1020961180641256]\n",
      "Time GRU_Model: 789.629057526 [s]\n",
      "\u001b[1m340/340\u001b[0m \u001b[32m━━━━━━━━━━━━━━━━━━━━\u001b[0m\u001b[37m\u001b[0m \u001b[1m4s\u001b[0m 12ms/step\n",
      "[0.890074747699465, 0.829972365725101, 0.7708479703483542, 0.6986911297360247, 0.6257623882102916, 0.535527004490908, 0.4457414697108776] [16.245647633553453, 19.986553154753704, 23.030381155801855, 25.41899594950027, 27.45556223579408, 29.2540400474024, 30.827579808598575] [0.9965556921077062, 1.2279744566689645, 1.4180897071139942, 1.6104905593174108, 1.7849743788638939, 1.9714908549133323, 2.1435825405578806]\n",
      "Time LSTM_Model: 555.1178373229995 [s]\n",
      "\n",
      "\t Argone--th=0.01\n",
      "Augmented samples 48425-- per DA=139.3%\n",
      "All: (54315, 20),(54315, 7)\n",
      "Train_o: (34761, 20),(34761, 7)\n",
      "Train_a: (83186, 20),(83186, 7)\n",
      "Val: (8691, 20),(8691, 7)\n",
      "Test: (10863, 20),(10863, 7)\n",
      "\u001b[1m340/340\u001b[0m \u001b[32m━━━━━━━━━━━━━━━━━━━━\u001b[0m\u001b[37m\u001b[0m \u001b[1m4s\u001b[0m 10ms/step\n",
      "[0.8785990369513018, 0.8150640712967642, 0.7541993396301853, 0.6905779042302245, 0.6252038979332868, 0.5190004479859271, 0.41449205198896444] [15.943451907388198, 19.777805259983158, 22.910623740515007, 25.405952696634593, 27.737500884027956, 29.791700794126886, 31.483611816504702] [1.0281447086441333, 1.2668797416295463, 1.4598598935034257, 1.6322168902248282, 1.7907980636514422, 1.9948808143184538, 2.180976385700808]\n",
      "Time RNNSimple_Model: 516.2251748930003 [s]\n",
      "\u001b[1m340/340\u001b[0m \u001b[32m━━━━━━━━━━━━━━━━━━━━\u001b[0m\u001b[37m\u001b[0m \u001b[1m4s\u001b[0m 12ms/step\n",
      "[0.8910258925779929, 0.830990701775047, 0.7719734740681925, 0.6942971876926537, 0.6210754402451863, 0.5414940579114689, 0.457198899676202] [16.427626141613704, 20.237629227276194, 23.19472612740435, 25.779550011476143, 27.920935366887367, 29.78132604537563, 31.348087901848785] [0.998608623398148, 1.2286045824514615, 1.4173857968247654, 1.621988727115393, 1.7954683590771074, 1.9632513541385757, 2.125243872097849]\n",
      "Time GRU_Model: 848.5241661160007 [s]\n",
      "\u001b[1m340/340\u001b[0m \u001b[32m━━━━━━━━━━━━━━━━━━━━\u001b[0m\u001b[37m\u001b[0m \u001b[1m4s\u001b[0m 12ms/step\n",
      "[0.8866863567608884, 0.8273983069398778, 0.7627540852760668, 0.6833295898332463, 0.605214012544105, 0.5313232848337193, 0.4542214754927142] [16.399537929643714, 20.187458400100272, 23.17764686979908, 25.625515204839726, 27.744258759936624, 29.538033085080116, 31.150383477596765] [1.0165489658995097, 1.2441896205086476, 1.444400249990199, 1.6483073483026016, 1.8292879820916903, 1.9883210416811192, 2.1417101933756704]\n",
      "Time LSTM_Model: 602.7102489710005 [s]\n",
      "\n",
      "\t Argone--th=0.02\n",
      "Augmented samples 54728-- per DA=157.4%\n",
      "All: (54315, 20),(54315, 7)\n",
      "Train_o: (34761, 20),(34761, 7)\n",
      "Train_a: (89489, 20),(89489, 7)\n",
      "Val: (8691, 20),(8691, 7)\n",
      "Test: (10863, 20),(10863, 7)\n",
      "\u001b[1m340/340\u001b[0m \u001b[32m━━━━━━━━━━━━━━━━━━━━\u001b[0m\u001b[37m\u001b[0m \u001b[1m4s\u001b[0m 11ms/step\n",
      "[0.8913748553670624, 0.8288242626269056, 0.766892352878025, 0.6942287619750276, 0.6067745480042002, 0.48448818975952657, 0.36905292305459203] [15.92485394563837, 19.772605678937907, 22.896489089721232, 25.361816236666577, 27.520084301645113, 29.586049851088603, 31.36295722510075] [0.9961433890477559, 1.2352724961775567, 1.4335245629619515, 1.6282931716941091, 1.8281947871684632, 2.06045487525014, 2.264981175115387]\n",
      "Time RNNSimple_Model: 562.0565631990012 [s]\n",
      "\u001b[1m340/340\u001b[0m \u001b[32m━━━━━━━━━━━━━━━━━━━━\u001b[0m\u001b[37m\u001b[0m \u001b[1m4s\u001b[0m 12ms/step\n",
      "[0.8924071664948273, 0.8311354098196042, 0.7713257152862988, 0.7038112372026208, 0.632281998967178, 0.5423028723137782, 0.44586861449103254] [16.171060635406416, 19.939870069671933, 23.1023834408281, 25.466520517548393, 27.742377190035278, 29.539201695306033, 31.192426069931344] [0.9908981210290206, 1.2252600835257008, 1.4180759881765905, 1.6012234569761314, 1.773462210305014, 1.9572515003718274, 2.1366303362906387]\n",
      "Time GRU_Model: 933.9480439769995 [s]\n",
      "\u001b[1m340/340\u001b[0m \u001b[32m━━━━━━━━━━━━━━━━━━━━\u001b[0m\u001b[37m\u001b[0m \u001b[1m4s\u001b[0m 12ms/step\n",
      "[0.891299106137964, 0.8314534074325799, 0.7647601344046167, 0.6970115864025748, 0.6296963936466581, 0.5584856181211839, 0.45533800088119647] [16.074182775617192, 19.83734152004544, 22.85156891778222, 25.3887410949109, 27.537059327798136, 29.36541051435606, 31.050049802097195] [0.9930557679976371, 1.225100789914899, 1.4335720570254455, 1.6174110367993213, 1.781900079058995, 1.9376374466040476, 2.125465720881496]\n",
      "Time LSTM_Model: 647.2045138149988 [s]\n",
      "\n",
      "\t Beijing--th=0.0\n",
      "Augmented samples 0-- per DA=0.0%\n",
      "All: (51972, 20),(51972, 7)\n",
      "Train_o: (33261, 20),(33261, 7)\n",
      "Train_a: (33261, 20),(33261, 7)\n",
      "Val: (8316, 20),(8316, 7)\n",
      "Test: (10395, 20),(10395, 7)\n",
      "\u001b[1m325/325\u001b[0m \u001b[32m━━━━━━━━━━━━━━━━━━━━\u001b[0m\u001b[37m\u001b[0m \u001b[1m3s\u001b[0m 10ms/step\n",
      "[0.728757842364149, 0.611277241928742, 0.48945409552129693, 0.3847372700869788, 0.2949098523058957, 0.22045726123780662, 0.16144041650858687] [31.719407868936443, 34.780074770643296, 36.938981731991674, 38.54296981534493, 39.794125095016376, 40.84790373251653, 41.68873192000584] [1.708088850509152, 1.9906284768074483, 2.235919738098054, 2.4226311353235443, 2.5727048417629135, 2.691539282242706, 2.7850677924612617]\n",
      "Time RNNSimple_Model: 232.95514070899844 [s]\n",
      "\u001b[1m325/325\u001b[0m \u001b[32m━━━━━━━━━━━━━━━━━━━━\u001b[0m\u001b[37m\u001b[0m \u001b[1m4s\u001b[0m 12ms/step\n",
      "[0.7498871104389093, 0.6492231096683301, 0.5423052420372554, 0.4415700349240054, 0.3520795265680875, 0.25859982281051686, 0.1834535897166657] [29.794325319153252, 33.11867644670897, 35.46507324614579, 37.192143769190054, 38.5503502170147, 39.63183872058931, 40.559834714249796] [1.6386287539486617, 1.8972899653892283, 2.1283966915994834, 2.318456884668884, 2.4712849967706685, 2.618727087937413, 2.732641052446614]\n",
      "Time GRU_Model: 370.8023310030003 [s]\n",
      "\u001b[1m325/325\u001b[0m \u001b[32m━━━━━━━━━━━━━━━━━━━━\u001b[0m\u001b[37m\u001b[0m \u001b[1m4s\u001b[0m 12ms/step\n",
      "[0.7200051160514569, 0.6165327621607691, 0.4913289822211112, 0.37429788141058584, 0.283200624837846, 0.2041299383478572, 0.13881576283400643] [29.898507388113117, 33.160585686448066, 35.57863279195524, 37.368789521348816, 38.72592904724736, 39.791250768678765, 40.67374526749409] [1.7288532839343644, 1.9849212639334324, 2.240602293630834, 2.453257970546618, 2.607918507646086, 2.7325718158018346, 2.8337743946134353]\n",
      "Time LSTM_Model: 274.92961951000143 [s]\n",
      "\n",
      "\t Beijing--th=0.001\n",
      "Augmented samples 2400-- per DA=7.2%\n",
      "All: (51972, 20),(51972, 7)\n",
      "Train_o: (33261, 20),(33261, 7)\n",
      "Train_a: (35661, 20),(35661, 7)\n",
      "Val: (8316, 20),(8316, 7)\n",
      "Test: (10395, 20),(10395, 7)\n",
      "\u001b[1m325/325\u001b[0m \u001b[32m━━━━━━━━━━━━━━━━━━━━\u001b[0m\u001b[37m\u001b[0m \u001b[1m4s\u001b[0m 11ms/step\n",
      "[0.7571577774988067, 0.6487060055951646, 0.5396942471027925, 0.43230606183089126, 0.33114258713455613, 0.2522902803559962, 0.19039558538421397] [32.00398054281321, 35.07711457157964, 37.31027050794734, 39.18283730491422, 40.30259420360097, 41.38471257281435, 42.2159951512007] [1.624004818526908, 1.8953486325533808, 2.1190499873701922, 2.3101550011035767, 2.47491340575342, 2.599089098981483, 2.695554780948034]\n",
      "Time RNNSimple_Model: 257.48332536700036 [s]\n",
      "\u001b[1m325/325\u001b[0m \u001b[32m━━━━━━━━━━━━━━━━━━━━\u001b[0m\u001b[37m\u001b[0m \u001b[1m4s\u001b[0m 13ms/step\n",
      "[0.7502305779530523, 0.6364259925803127, 0.5113591035912963, 0.40997713788400836, 0.3233885764299006, 0.25003648892399155, 0.1829180145112883] [30.852983949235036, 34.321858196008435, 36.66605221714592, 38.46609724419082, 39.935102115636184, 41.16485355482901, 42.16581422828367] [1.6430206582143134, 1.932520336191398, 2.1954050602978183, 2.388177541180211, 2.54303670170138, 2.6687132202661052, 2.7786475709376783]\n",
      "Time GRU_Model: 405.7384896799995 [s]\n",
      "\u001b[1m325/325\u001b[0m \u001b[32m━━━━━━━━━━━━━━━━━━━━\u001b[0m\u001b[37m\u001b[0m \u001b[1m4s\u001b[0m 12ms/step\n",
      "[0.7302693456168091, 0.6410964372350687, 0.5645670274167767, 0.4640714958394089, 0.37517458468077924, 0.2874802110924183, 0.20734423991645234] [30.44353799967804, 33.60761385165554, 36.09489443623801, 37.66855518648904, 38.926169111366775, 39.91683494706017, 40.73925002632106] [1.6617306948606339, 1.9007471603359474, 2.0805562995171925, 2.276944093904999, 2.4330943823146516, 2.5752242163980634, 2.6969800069077543]\n",
      "Time LSTM_Model: 307.7050449649996 [s]\n",
      "\n",
      "\t Beijing--th=0.002\n",
      "Augmented samples 8940-- per DA=26.9%\n",
      "All: (51972, 20),(51972, 7)\n",
      "Train_o: (33261, 20),(33261, 7)\n",
      "Train_a: (42201, 20),(42201, 7)\n",
      "Val: (8316, 20),(8316, 7)\n",
      "Test: (10395, 20),(10395, 7)\n",
      "\u001b[1m325/325\u001b[0m \u001b[32m━━━━━━━━━━━━━━━━━━━━\u001b[0m\u001b[37m\u001b[0m \u001b[1m4s\u001b[0m 11ms/step\n",
      "[0.7599185658176713, 0.6708596823958994, 0.5674606878435209, 0.45579310312313126, 0.3529353911682057, 0.27237037789634233, 0.20038497346288187] [31.271483089752923, 35.14552131946846, 37.09625607924121, 38.477863354676046, 39.5750764896633, 40.479215454970195, 41.2465784127924] [1.6152187068546981, 1.859310631713111, 2.081520922146968, 2.2860053986400186, 2.460303782520515, 2.59218562832307, 2.7066114449421415]\n",
      "Time RNNSimple_Model: 291.0823913969998 [s]\n",
      "\u001b[1m325/325\u001b[0m \u001b[32m━━━━━━━━━━━━━━━━━━━━\u001b[0m\u001b[37m\u001b[0m \u001b[1m4s\u001b[0m 13ms/step\n",
      "[0.7555012969131628, 0.6679786798090602, 0.580664717303597, 0.4910436257595463, 0.39674325421325285, 0.325288285316887, 0.25844910136134913] [31.736035364138793, 35.53804846435008, 37.74392263863474, 39.2540812341125, 40.30532560105336, 41.24939626038756, 42.02377109870769] [1.6200115679722527, 1.8582616330315458, 2.0530485399871727, 2.2266857351787563, 2.3891737856479365, 2.5071576804440565, 2.611959405761265]\n",
      "Time GRU_Model: 470.7091507090008 [s]\n",
      "\u001b[1m325/325\u001b[0m \u001b[32m━━━━━━━━━━━━━━━━━━━━\u001b[0m\u001b[37m\u001b[0m \u001b[1m4s\u001b[0m 12ms/step\n",
      "[0.7479951742470451, 0.6559541300168211, 0.5716811621833189, 0.4751099786785926, 0.3873024307778389, 0.31141174929769966, 0.23895332369966849] [30.536714030161644, 33.75067751177742, 36.15235024294384, 37.798558702315304, 39.06191556910507, 40.06711593991614, 40.909087128758905] [1.6386103423737692, 1.880667167882625, 2.0724021072000407, 2.258094078556678, 2.411674216310644, 2.534872693897652, 2.6490587289833307]\n",
      "Time LSTM_Model: 341.86259846399844 [s]\n",
      "\n",
      "\t Beijing--th=0.005\n",
      "Augmented samples 34138-- per DA=102.6%\n",
      "All: (51972, 20),(51972, 7)\n",
      "Train_o: (33261, 20),(33261, 7)\n",
      "Train_a: (67399, 20),(67399, 7)\n",
      "Val: (8316, 20),(8316, 7)\n",
      "Test: (10395, 20),(10395, 7)\n",
      "\u001b[1m325/325\u001b[0m \u001b[32m━━━━━━━━━━━━━━━━━━━━\u001b[0m\u001b[37m\u001b[0m \u001b[1m3s\u001b[0m 10ms/step\n",
      "[0.7344033202992811, 0.6453747891595818, 0.567098445331266, 0.48959451422222044, 0.40706689385296546, 0.3389944572009058, 0.28151479346015684] [31.638133331724756, 35.77858054546483, 38.61641776252889, 40.67106320452882, 41.603943623734224, 42.432314474834484, 43.14632626496256] [1.6771845808313521, 1.9151907305032323, 2.093512537124068, 2.2440905545213377, 2.385276546736441, 2.495998648369399, 2.5857116033989977]\n",
      "Time RNNSimple_Model: 436.9783989619991 [s]\n",
      "\u001b[1m325/325\u001b[0m \u001b[32m━━━━━━━━━━━━━━━━━━━━\u001b[0m\u001b[37m\u001b[0m \u001b[1m4s\u001b[0m 13ms/step\n",
      "[0.7391742089437983, 0.6515999506532087, 0.5674074416349697, 0.49359314395213827, 0.4256991237099528, 0.361546551785459, 0.29227452899856166] [31.207622115265153, 35.01170579965236, 37.709418013404935, 39.802313831008696, 41.30576850692034, 42.480318822442406, 43.18462013313973] [1.6554942016546275, 1.8937477586973903, 2.0870815455976968, 2.2422401005836075, 2.372165567766538, 2.4856209083250005, 2.591261186947629]\n",
      "Time GRU_Model: 721.9142136540013 [s]\n",
      "\u001b[1m325/325\u001b[0m \u001b[32m━━━━━━━━━━━━━━━━━━━━\u001b[0m\u001b[37m\u001b[0m \u001b[1m4s\u001b[0m 12ms/step\n",
      "[0.7559748386588367, 0.6669564956007299, 0.5998214190225949, 0.5375904608564681, 0.4807410429547625, 0.42575427078800443, 0.35977584803702367] [31.656068262339037, 36.293001351758754, 39.89452260486127, 41.90638925416027, 43.609189527037074, 44.75116834623216, 45.18150097653708] [1.6319394857929037, 1.8807907743721133, 2.0499999208133532, 2.183828286682869, 2.296953021927492, 2.394155322239708, 2.49259541759392]\n",
      "Time LSTM_Model: 516.8073045760011 [s]\n",
      "\n",
      "\t Beijing--th=0.007\n",
      "Augmented samples 44476-- per DA=133.7%\n",
      "All: (51972, 20),(51972, 7)\n",
      "Train_o: (33261, 20),(33261, 7)\n",
      "Train_a: (77737, 20),(77737, 7)\n",
      "Val: (8316, 20),(8316, 7)\n",
      "Test: (10395, 20),(10395, 7)\n",
      "\u001b[1m325/325\u001b[0m \u001b[32m━━━━━━━━━━━━━━━━━━━━\u001b[0m\u001b[37m\u001b[0m \u001b[1m4s\u001b[0m 10ms/step\n",
      "[0.7637465075538521, 0.6703086142262025, 0.5914972012685313, 0.5158850337746046, 0.4313595627265512, 0.35578377024644203, 0.2794528405657303] [31.496345906883544, 36.17667279683104, 40.08099505673092, 41.389452365302546, 42.19526045215602, 42.86049618446405, 43.381090352013544] [1.5996589503048038, 1.8675052846498843, 2.0706253772944203, 2.221912738607413, 2.368169786237692, 2.492224392877685, 2.611069782312033]\n",
      "Time RNNSimple_Model: 485.3558005390005 [s]\n",
      "\u001b[1m325/325\u001b[0m \u001b[32m━━━━━━━━━━━━━━━━━━━━\u001b[0m\u001b[37m\u001b[0m \u001b[1m4s\u001b[0m 13ms/step\n",
      "[0.7437273494321446, 0.652866317178292, 0.5745170302744567, 0.5043995463205572, 0.42062786488881576, 0.3176328222818029, 0.23814675266821872] [30.370883410058408, 34.4102620258828, 37.46581882679942, 39.82987633338224, 41.12592498319568, 42.06870269259268, 42.77409086631499] [1.6489960715861953, 1.8922509581005709, 2.0780313345730894, 2.2316843049211474, 2.374210513991531, 2.5274947515187693, 2.643733448792825]\n",
      "Time GRU_Model: 799.4811791680022 [s]\n",
      "\u001b[1m325/325\u001b[0m \u001b[32m━━━━━━━━━━━━━━━━━━━━\u001b[0m\u001b[37m\u001b[0m \u001b[1m4s\u001b[0m 12ms/step\n",
      "[0.7511190405540746, 0.6586607896438682, 0.5800125531045897, 0.5089081442625507, 0.4418962100090563, 0.3835586662137157, 0.32829039898375234] [31.188782343071935, 35.015981625235234, 37.54139039783963, 39.519396431199034, 40.98322504976853, 42.32347964854167, 43.33314638747268] [1.6363813342374953, 1.8818018757413713, 2.0626704610900317, 2.214375806502323, 2.3448411254023545, 2.453304454802113, 2.5500626572640406]\n",
      "Time LSTM_Model: 568.4411645390028 [s]\n",
      "\n",
      "\t Beijing--th=0.01\n",
      "Augmented samples 51024-- per DA=153.4%\n",
      "All: (51972, 20),(51972, 7)\n",
      "Train_o: (33261, 20),(33261, 7)\n",
      "Train_a: (84285, 20),(84285, 7)\n",
      "Val: (8316, 20),(8316, 7)\n",
      "Test: (10395, 20),(10395, 7)\n",
      "\u001b[1m325/325\u001b[0m \u001b[32m━━━━━━━━━━━━━━━━━━━━\u001b[0m\u001b[37m\u001b[0m \u001b[1m3s\u001b[0m 10ms/step\n",
      "[0.7600425587726373, 0.6668539682677026, 0.5821362915093028, 0.5067211298366865, 0.44025480510116166, 0.37876801360683576, 0.31871500396042707] [32.324499034527946, 37.16752656386126, 41.19819504711778, 44.34264542954133, 46.54222461325777, 47.88134740669909, 48.691530272474516] [1.6126442734565185, 1.8797417255878242, 2.0955033148671163, 2.2704603897373343, 2.41108746752674, 2.5259230702157764, 2.628390616681284]\n",
      "Time RNNSimple_Model: 526.2944622539981 [s]\n",
      "\u001b[1m325/325\u001b[0m \u001b[32m━━━━━━━━━━━━━━━━━━━━\u001b[0m\u001b[37m\u001b[0m \u001b[1m4s\u001b[0m 12ms/step\n",
      "[0.7549174872220654, 0.6574970919656773, 0.5833425433328189, 0.5107026513341582, 0.43586278481335916, 0.3750653283242119, 0.3179876964157998] [31.532697834606388, 36.39718633941296, 38.88227578587293, 40.59365143819779, 41.964640206072964, 43.12837187436673, 43.95605878899258] [1.6221647600394016, 1.8959715778841881, 2.069433464904434, 2.2189702086261005, 2.357638067415385, 2.4644610580192188, 2.5582356976932896]\n",
      "Time GRU_Model: 831.0877357270001 [s]\n",
      "\u001b[1m325/325\u001b[0m \u001b[32m━━━━━━━━━━━━━━━━━━━━\u001b[0m\u001b[37m\u001b[0m \u001b[1m4s\u001b[0m 12ms/step\n",
      "[0.7632794167295633, 0.6708185546870167, 0.5983287064480753, 0.5273676099150386, 0.46093497384984283, 0.40312577432133867, 0.3482659169534905] [30.544454431865226, 35.12144248013141, 38.18813759441281, 40.47918198804979, 42.110301187961205, 43.553951880514866, 44.58746958818215] [1.6083670225899167, 1.8672884206996176, 2.042444716276482, 2.1961375440698876, 2.3269804131666505, 2.435523950126949, 2.531229702477819]\n",
      "Time LSTM_Model: 596.0653909730026 [s]\n",
      "\n",
      "\t Beijing--th=0.02\n",
      "Augmented samples 55193-- per DA=165.9%\n",
      "All: (51972, 20),(51972, 7)\n",
      "Train_o: (33261, 20),(33261, 7)\n",
      "Train_a: (88454, 20),(88454, 7)\n",
      "Val: (8316, 20),(8316, 7)\n",
      "Test: (10395, 20),(10395, 7)\n",
      "\u001b[1m325/325\u001b[0m \u001b[32m━━━━━━━━━━━━━━━━━━━━\u001b[0m\u001b[37m\u001b[0m \u001b[1m3s\u001b[0m 10ms/step\n",
      "[0.7663596918663672, 0.6718700670041886, 0.5876963448961385, 0.42760993440196116, 0.3175563576966134, 0.23847168009036002, 0.1792357524401288] [30.65424969498709, 35.42797402850843, 39.5042829262502, 41.898508706087725, 43.52932880214493, 44.68379574417311, 45.523558849943846] [1.5822607473346464, 1.8519637486035339, 2.0667987682363504, 2.324090062707855, 2.4953461890490463, 2.616200776818005, 2.7058861317560936]\n",
      "Time RNNSimple_Model: 531.8459650740006 [s]\n",
      "\u001b[1m325/325\u001b[0m \u001b[32m━━━━━━━━━━━━━━━━━━━━\u001b[0m\u001b[37m\u001b[0m \u001b[1m4s\u001b[0m 12ms/step\n",
      "[0.7599870055387435, 0.66722273854677, 0.5854618439082495, 0.5203343620684804, 0.45417239701302703, 0.3915892476692262, 0.3224689344583319] [31.758119028286462, 36.72702790113144, 40.737959949251554, 42.74168814334721, 44.072448453392035, 44.96398622038026, 45.46586046034323] [1.6094645951631008, 1.878133352821053, 2.0882854774668456, 2.226954609650658, 2.34650993396378, 2.4507529581403142, 2.556388860649387]\n",
      "Time GRU_Model: 884.9965883139994 [s]\n",
      "\u001b[1m325/325\u001b[0m \u001b[32m━━━━━━━━━━━━━━━━━━━━\u001b[0m\u001b[37m\u001b[0m \u001b[1m4s\u001b[0m 12ms/step\n",
      "[0.754128993958032, 0.6599755169759767, 0.5838295439359316, 0.5089613331707277, 0.4416209649827244, 0.38098600238456826, 0.32444249315499873] [30.93788500019801, 35.269211789400444, 37.874159095821085, 39.81995164941098, 41.457998687590226, 42.698357610656444, 43.82039478091928] [1.6341858584690507, 1.892970505812225, 2.0664517832230263, 2.219297348036348, 2.348183514927336, 2.458026992136624, 2.557730375625637]\n",
      "Time LSTM_Model: 624.7176722970034 [s]\n",
      "\n",
      "\t Chengdu--th=0.0\n",
      "Augmented samples 0-- per DA=0.0%\n",
      "All: (55749, 20),(55749, 7)\n",
      "Train_o: (35679, 20),(35679, 7)\n",
      "Train_a: (35679, 20),(35679, 7)\n",
      "Val: (8920, 20),(8920, 7)\n",
      "Test: (11150, 20),(11150, 7)\n",
      "\u001b[1m349/349\u001b[0m \u001b[32m━━━━━━━━━━━━━━━━━━━━\u001b[0m\u001b[37m\u001b[0m \u001b[1m4s\u001b[0m 10ms/step\n",
      "[-0.14689922035230385, -0.15178918159400023, -0.1543241505446007, -0.15615380402595358, -0.15763619012561558, -0.3487815622798054, -0.4861167637940338] [34.02043757493733, 34.0401747695515, 34.051965063191595, 34.05944111827014, 34.064241843761614, 44.88905629119986, 52.645627682440264] [2.2064919538147243, 2.2101337847123763, 2.212160775287269, 2.2134997353224475, 2.214490217481707, 2.4203781343080335, 2.568020476019331]\n",
      "Time RNNSimple_Model: 243.41570266599956 [s]\n",
      "\u001b[1m349/349\u001b[0m \u001b[32m━━━━━━━━━━━━━━━━━━━━\u001b[0m\u001b[37m\u001b[0m \u001b[1m4s\u001b[0m 12ms/step\n",
      "[-0.14956905597555403, -0.153925185865317, -0.15660621261940233, -0.15851333740581053, -0.15955514334767718, -0.34830231984742444, -0.48468293519366834] [34.05835352086788, 34.10800193046416, 34.11796343417022, 34.11595059472462, 34.10936043493214, 44.84998084557586, 52.573487786361426] [2.208055767883848, 2.211663858809706, 2.2136251044132247, 2.2148597827928485, 2.2155498727435807, 2.4196493724932138, 2.5666220370937585]\n",
      "Time GRU_Model: 362.2958177060027 [s]\n",
      "\u001b[1m349/349\u001b[0m \u001b[32m━━━━━━━━━━━━━━━━━━━━\u001b[0m\u001b[37m\u001b[0m \u001b[1m4s\u001b[0m 12ms/step\n",
      "[-0.14637711292628208, -0.15061429055625863, -0.15329298660998258, -0.1548513065377919, -0.1559819033403813, -0.15696855103472562, -0.15774595235539635] [33.97556074130906, 34.010425656569964, 34.031522962402754, 34.04674305563448, 34.05994803397818, 34.064866598503585, 34.06803306092082] [2.206661978881562, 2.2100203343280223, 2.2119965318962063, 2.2132505322118514, 2.214229244954233, 2.2148575648028395, 2.215319662349366]\n",
      "Time LSTM_Model: 285.1900953180011 [s]\n",
      "\n",
      "\t Chengdu--th=0.001\n",
      "Augmented samples 1913-- per DA=5.4%\n",
      "All: (55749, 20),(55749, 7)\n",
      "Train_o: (35679, 20),(35679, 7)\n",
      "Train_a: (37592, 20),(37592, 7)\n",
      "Val: (8920, 20),(8920, 7)\n",
      "Test: (11150, 20),(11150, 7)\n",
      "\u001b[1m349/349\u001b[0m \u001b[32m━━━━━━━━━━━━━━━━━━━━\u001b[0m\u001b[37m\u001b[0m \u001b[1m4s\u001b[0m 10ms/step\n",
      "[-0.14108717134897675, -0.6868724180468884, -0.8799198620994664, -0.9816622001353363, -1.0439155020430708, -1.0858259747793788, -1.1164986260503396] [34.00787689974816, 65.64136468839786, 76.45135883501123, 81.98386338452208, 85.32343767307935, 87.549552414079, 89.16026357374282] [2.202445664345096, 2.799927971486881, 3.0072195033827924, 3.114687184239533, 3.18003724657399, 3.223888451118619, 3.255737938528043]\n",
      "Time RNNSimple_Model: 254.51524828600304 [s]\n",
      "\u001b[1m349/349\u001b[0m \u001b[32m━━━━━━━━━━━━━━━━━━━━\u001b[0m\u001b[37m\u001b[0m \u001b[1m5s\u001b[0m 12ms/step\n",
      "[-0.14259808750673564, -0.14834507199920832, -0.1523853144934475, -0.15440139717254375, -0.15595338224637856, -0.3454468785927072, -0.4818221838953747] [34.1355873540653, 34.114951742657865, 34.12318412072354, 34.12177171788191, 34.11854239462072, 44.85979698845689, 52.56625689338449] [2.204130088451197, 2.208323429177374, 2.2112087484391107, 2.212728545308006, 2.2138310487013335, 2.4184281304694615, 2.5653114320152466]\n",
      "Time GRU_Model: 418.03782929399677 [s]\n",
      "\u001b[1m349/349\u001b[0m \u001b[32m━━━━━━━━━━━━━━━━━━━━\u001b[0m\u001b[37m\u001b[0m \u001b[1m4s\u001b[0m 12ms/step\n",
      "[-0.14034477991269512, -0.14660056377056874, -0.15106108176245958, -0.43768404068034883, -0.38305661695207305, -0.34615482672498876, -0.31985226090726915] [34.022725745565644, 34.06748978987385, 34.087787652817234, 50.29558912956954, 47.08434457500518, 44.91933078681534, 43.37457530110593] [2.2023024789305543, 2.207036335539283, 2.2102189759578046, 2.518831929374276, 2.4590755689521755, 2.4188045936353535, 2.3900408891781715]\n",
      "Time LSTM_Model: 299.83421433400144 [s]\n",
      "\n",
      "\t Chengdu--th=0.002\n",
      "Augmented samples 6710-- per DA=18.8%\n",
      "All: (55749, 20),(55749, 7)\n",
      "Train_o: (35679, 20),(35679, 7)\n",
      "Train_a: (42389, 20),(42389, 7)\n",
      "Val: (8920, 20),(8920, 7)\n",
      "Test: (11150, 20),(11150, 7)\n",
      "\u001b[1m349/349\u001b[0m \u001b[32m━━━━━━━━━━━━━━━━━━━━\u001b[0m\u001b[37m\u001b[0m \u001b[1m4s\u001b[0m 10ms/step\n",
      "[-0.04599249676782535, -0.09523100187806444, -0.11349326866166076, -0.12325430467120868, -0.35364313963648164, -0.5098304953059805, -0.6194724146135928] [50.447182368581345, 42.29855332866533, 39.57588673977146, 38.21794569971595, 50.19522916275635, 58.25812655785564, 63.93161784550907] [2.374406159232443, 2.2907451003147346, 2.2643585860370696, 2.2517430053377367, 2.4870653838880816, 2.64584857058518, 2.7578349041242616]\n",
      "Time RNNSimple_Model: 281.05670545199973 [s]\n",
      "\u001b[1m349/349\u001b[0m \u001b[32m━━━━━━━━━━━━━━━━━━━━\u001b[0m\u001b[37m\u001b[0m \u001b[1m5s\u001b[0m 13ms/step\n",
      "[-0.12468875731566409, -0.1352045640380657, -0.14143534050614748, -0.41439241842543506, -0.5806508392421885, -0.6927728423620119, -0.773306275478203] [34.41209516094002, 34.47852003799116, 34.510222056939504, 50.06849031995536, 59.45415242305609, 65.74376805633732, 70.25631683924237] [2.1957738776852733, 2.2044885591312373, 2.209350993723078, 2.505557543002858, 2.6850718147060046, 2.805711537536471, 2.892199541435432]\n",
      "Time GRU_Model: 460.95549337099874 [s]\n",
      "\u001b[1m349/349\u001b[0m \u001b[32m━━━━━━━━━━━━━━━━━━━━\u001b[0m\u001b[37m\u001b[0m \u001b[1m4s\u001b[0m 12ms/step\n",
      "[-0.11642430701365059, -0.12986733188512933, -0.138008563635722, -0.14322256599779815, -0.14628163856451892, -0.14828091116015685, -0.14923342178299248] [34.24052307808469, 34.3811228407694, 34.46789529217819, 34.532437895567085, 34.53959279959912, 34.559674016834485, 34.56315767086585] [2.1901188953874353, 2.2008174905503277, 2.207231527385797, 2.211270247567288, 2.2135589919930188, 2.21517872079078, 2.2160923111778734]\n",
      "Time LSTM_Model: 345.69328964099986 [s]\n",
      "\n",
      "\t Chengdu--th=0.005\n",
      "Augmented samples 23878-- per DA=66.9%\n",
      "All: (55749, 20),(55749, 7)\n",
      "Train_o: (35679, 20),(35679, 7)\n",
      "Train_a: (59557, 20),(59557, 7)\n",
      "Val: (8920, 20),(8920, 7)\n",
      "Test: (11150, 20),(11150, 7)\n",
      "\u001b[1m349/349\u001b[0m \u001b[32m━━━━━━━━━━━━━━━━━━━━\u001b[0m\u001b[37m\u001b[0m \u001b[1m4s\u001b[0m 10ms/step\n",
      "[0.00428590722079647, -0.004343733540456141, -0.013764017708627785, -0.020812846949076036, -0.027861014766804804, -0.033855018942208215, -0.03965159599359991] [35.0663852600951, 35.15813253291881, 35.34536013490548, 35.42894704928099, 35.50121926809624, 35.55226559180547, 35.60284805362217] [2.0841573127751927, 2.098868242771048, 2.112960981212674, 2.1227164775604894, 2.1304165638206247, 2.136728322065696, 2.142090744210343]\n",
      "Time RNNSimple_Model: 384.7915630110001 [s]\n",
      "\u001b[1m349/349\u001b[0m \u001b[32m━━━━━━━━━━━━━━━━━━━━\u001b[0m\u001b[37m\u001b[0m \u001b[1m5s\u001b[0m 13ms/step\n",
      "[0.42862787127785174, 0.17249488854462758, 0.07821052478453039, 0.02873757835522983, -0.0025841533244330694, -0.02454733595359082, -0.040016745509911855] [42.70297313807075, 38.500622536697385, 37.29004509316274, 36.62429284013383, 36.257769458116826, 36.017721123089515, 35.83894221572677] [1.5731968135532242, 1.8742908579491713, 1.983053643777374, 2.0382568760929085, 2.0731565263456933, 2.096788640265721, 2.113824438808149]\n",
      "Time GRU_Model: 643.2261379539996 [s]\n",
      "\u001b[1m349/349\u001b[0m \u001b[32m━━━━━━━━━━━━━━━━━━━━\u001b[0m\u001b[37m\u001b[0m \u001b[1m5s\u001b[0m 13ms/step\n",
      "[0.2776587922968601, 0.19671319152576583, 0.15037254605832828, 0.11961890280346066, 0.09356029491775575, 0.07405688491717644, 0.05581138438983402] [34.479903599177284, 35.40961948423424, 36.13836619366083, 36.401241564243726, 36.54953489555179, 36.64759388966938, 36.63567551171677] [1.8788032570441207, 1.9590317634000904, 2.0051345468561035, 2.032950716182469, 2.055099576275573, 2.0713748011917636, 2.085164571489668]\n",
      "Time LSTM_Model: 456.62272248299996 [s]\n",
      "\n",
      "\t Chengdu--th=0.007\n",
      "Augmented samples 32226-- per DA=90.3%\n",
      "All: (55749, 20),(55749, 7)\n",
      "Train_o: (35679, 20),(35679, 7)\n",
      "Train_a: (67905, 20),(67905, 7)\n",
      "Val: (8920, 20),(8920, 7)\n",
      "Test: (11150, 20),(11150, 7)\n",
      "\u001b[1m349/349\u001b[0m \u001b[32m━━━━━━━━━━━━━━━━━━━━\u001b[0m\u001b[37m\u001b[0m \u001b[1m4s\u001b[0m 10ms/step\n",
      "[0.14263211373131945, 0.10462358006007044, 0.07737956866715978, 0.05750078804788272, 0.04085689206968479, 0.025955632923242433, 0.013011040982512823] [37.52477846195257, 37.796748942719105, 37.82185148480942, 37.69639407138314, 37.48197187419529, 37.33396789693712, 37.29691781676206] [1.9503060246930124, 2.003581156122023, 2.040618891473188, 2.0642393469500067, 2.080828453619718, 2.0955133181228165, 2.1094819181565456]\n",
      "Time RNNSimple_Model: 432.4094802610016 [s]\n",
      "\u001b[1m349/349\u001b[0m \u001b[32m━━━━━━━━━━━━━━━━━━━━\u001b[0m\u001b[37m\u001b[0m \u001b[1m4s\u001b[0m 12ms/step\n",
      "[0.34377618722034753, 0.2243548843708445, 0.15265255143919076, 0.10864481854084007, 0.07369796694990094, 0.049249054299614126, 0.028735890772358608] [34.41256776439828, 35.93533689755991, 36.676280238239606, 37.07886918950657, 37.37570599167544, 37.59184280201852, 37.73124927412253] [1.8091587517024155, 1.9363538920676224, 2.0070113012202646, 2.0487584416418327, 2.0805166000642474, 2.1024981375737037, 2.1197972224729784]\n",
      "Time GRU_Model: 697.185314184997 [s]\n",
      "\u001b[1m349/349\u001b[0m \u001b[32m━━━━━━━━━━━━━━━━━━━━\u001b[0m\u001b[37m\u001b[0m \u001b[1m4s\u001b[0m 12ms/step\n",
      "[0.41796479927577346, 0.3491020380721108, 0.29387316136323305, 0.2454776519656563, 0.20663380556883404, 0.1754903252092591, 0.1473975195490438] [37.66872246764324, 38.72246463681359, 38.50929733768651, 38.21052615094225, 37.96059716571013, 37.835212297382775, 37.674816877376585] [1.6521963947056655, 1.76854580415375, 1.842939468077872, 1.897238584361269, 1.9373249517483562, 1.9687952176635748, 1.9943579158518423]\n",
      "Time LSTM_Model: 496.4701471799999 [s]\n",
      "\n",
      "\t Chengdu--th=0.01\n",
      "Augmented samples 40578-- per DA=113.7%\n",
      "All: (55749, 20),(55749, 7)\n",
      "Train_o: (35679, 20),(35679, 7)\n",
      "Train_a: (76257, 20),(76257, 7)\n",
      "Val: (8920, 20),(8920, 7)\n",
      "Test: (11150, 20),(11150, 7)\n",
      "\u001b[1m349/349\u001b[0m \u001b[32m━━━━━━━━━━━━━━━━━━━━\u001b[0m\u001b[37m\u001b[0m \u001b[1m4s\u001b[0m 10ms/step\n",
      "[0.046717601875210124, 0.011060339608840897, -0.004479771541483046, -0.01921417168484707, -0.030210874466267468, -0.03819878662008702, -0.04509355542156013] [48.0877633478696, 48.80919893629418, 49.190261098326985, 49.5751391449899, 49.81678924683381, 49.9825948305263, 50.1180663700312] [2.2836032729717646, 2.321265640632989, 2.338395656282627, 2.3534324429257563, 2.364409210602456, 2.3724066873970946, 2.379144195257403]\n",
      "Time RNNSimple_Model: 471.59372986400194 [s]\n",
      "\u001b[1m349/349\u001b[0m \u001b[32m━━━━━━━━━━━━━━━━━━━━\u001b[0m\u001b[37m\u001b[0m \u001b[1m4s\u001b[0m 12ms/step\n",
      "[0.4271231435055166, 0.310320717149826, 0.21295641359643058, 0.19526939060101367, 0.16539775960069103, 0.13957771191331836, 0.11912276576152081] [42.78982773763176, 46.79171052692165, 49.59940639138012, 47.86804921938072, 45.840938353105045, 44.4416834866843, 43.39351800720431] [1.5889976459278388, 1.7627453756461897, 1.8927388836315484, 1.9360087270165303, 1.971224844300613, 1.9982329856801682, 2.0171747719884796]\n",
      "Time GRU_Model: 781.4711609839978 [s]\n",
      "\u001b[1m349/349\u001b[0m \u001b[32m━━━━━━━━━━━━━━━━━━━━\u001b[0m\u001b[37m\u001b[0m \u001b[1m4s\u001b[0m 12ms/step\n",
      "[0.4035425126496325, 0.32020492780925214, 0.28209667160426266, 0.2382263214751379, 0.19287585638395854, 0.15608650322191608, 0.1280098777899189] [42.630920387265405, 45.00913400059291, 42.99995766000486, 41.81801766401057, 41.12469334341509, 40.59435502953376, 40.16434746580501] [1.6246823354594913, 1.7689626394901576, 1.8417634076382903, 1.9004199075661168, 1.9496298258808589, 1.9867264879334134, 2.0150176323033393]\n",
      "Time LSTM_Model: 553.2753864450024 [s]\n",
      "\n",
      "\t Chengdu--th=0.02\n",
      "Augmented samples 52340-- per DA=146.7%\n",
      "All: (55749, 20),(55749, 7)\n",
      "Train_o: (35679, 20),(35679, 7)\n",
      "Train_a: (88019, 20),(88019, 7)\n",
      "Val: (8920, 20),(8920, 7)\n",
      "Test: (11150, 20),(11150, 7)\n",
      "\u001b[1m349/349\u001b[0m \u001b[32m━━━━━━━━━━━━━━━━━━━━\u001b[0m\u001b[37m\u001b[0m \u001b[1m4s\u001b[0m 10ms/step\n",
      "[0.4337924226033102, 0.3219516175563175, 0.260202502376085, 0.1999921290015907, 0.15764079826722044, 0.12835751159713082, 0.10463130618885463] [42.295777691300515, 46.446176914109095, 47.975630178752034, 45.11980969663895, 43.35879251410945, 42.138547938604674, 41.25991875316672] [1.549612700751651, 1.7268957720456102, 1.8398517939237555, 1.9047252873028877, 1.9468090590260168, 1.9753372628481043, 1.997611404505179]\n",
      "Time RNNSimple_Model: 533.1202513429998 [s]\n",
      "\u001b[1m349/349\u001b[0m \u001b[32m━━━━━━━━━━━━━━━━━━━━\u001b[0m\u001b[37m\u001b[0m \u001b[1m5s\u001b[0m 13ms/step\n",
      "[0.4821942517101221, 0.3870103187891957, 0.317316299630959, 0.22531814593995048, 0.16501203549395604, 0.13563456647993788, 0.10198990756290127] [38.09788847950609, 37.47247023498559, 37.5259681960148, 40.96305446217179, 43.15597357057159, 41.92373313989029, 43.40660878054717] [1.6280157514135933, 1.7617005590695438, 1.847259723511797, 1.9862660266308507, 2.0743920569291565, 2.0829468909050495, 2.1351361068171464]\n",
      "Time GRU_Model: 932.2558335799986 [s]\n",
      "\u001b[1m349/349\u001b[0m \u001b[32m━━━━━━━━━━━━━━━━━━━━\u001b[0m\u001b[37m\u001b[0m \u001b[1m4s\u001b[0m 12ms/step\n",
      "[0.4613245826055883, 0.37655908596736953, 0.2879946927134559, 0.2272615004873748, 0.17977011070460114, 0.1427412752181616, 0.11297089745773004] [37.379180428790434, 38.110688390875595, 37.749430770313616, 37.42117962395067, 37.214374286347166, 37.103350700740826, 37.08074939991947] [1.6225785021416275, 1.7505336696408786, 1.8497848386589186, 1.9128088026271275, 1.9585961345770113, 1.993453090397873, 2.021585930748279]\n",
      "Time LSTM_Model: 623.1165745969993 [s]\n"
     ]
    }
   ],
   "source": [
    "#loop\n",
    "thsA = np.append(0,ths) #include original data\n",
    "thsA\n",
    "train_size = 0.8\n",
    "val_size = 0.2\n",
    "random_state = 123\n",
    "\n",
    "results = {}\n",
    "for datai in range(len(names_)):\n",
    "    for thj in range(len(thsA)): \n",
    "        print(f\"\\n\\t {names_[datai]}--th={thsA[thj].round(3)}\")\n",
    "        \n",
    "        X_ = Xc[label_dat==datai+1]\n",
    "        Y_ = Yc[label_dat==datai+1]\n",
    "        nsamples = X_.shape[0]\n",
    "        Xtrain_ = X_[:int(nsamples*train_size)]\n",
    "        Xtest = X_[int(nsamples*train_size):]\n",
    "        Ytrain_ = Y_[:int(nsamples*train_size)]\n",
    "        Ytest = Y_[int(nsamples*train_size):]\n",
    "\n",
    "        Xtrain, Xval, Ytrain, Yval = train_test_split(Xtrain_,Ytrain_, test_size=val_size, \n",
    "                                              random_state=random_state, shuffle=True)\n",
    "        if thsA[thj] > 0:\n",
    "            vec_ = ind_total_aug[thj-1][datai]\n",
    "            Xtrain_a = np.r_[Xtrain,Xc[vec_]]\n",
    "            Ytrain_a = np.r_[Ytrain,Yc[vec_]]\n",
    "        else:\n",
    "            vec_ = np.empty(0)\n",
    "            Xtrain_a = Xtrain\n",
    "            Ytrain_a = Ytrain\n",
    "\n",
    "        pda = (((Xtrain_a.shape[0]-Xtrain.shape[0])/Xtrain.shape[0])*100)\n",
    "        print(f\"Augmented samples {len(vec_)}-- per DA={round(pda,1)}%\")\n",
    "        \n",
    "        print(f\"All: {X_.shape},{Y_.shape}\")\n",
    "        print(f\"Train_o: {Xtrain.shape},{Ytrain.shape}\")     # datos sin data augmentation\n",
    "        print(f\"Train_a: {Xtrain_a.shape},{Ytrain_a.shape}\") # datos para entrenar con data augmentation segun umbral thj\n",
    "        print(f\"Val: {Xval.shape},{Yval.shape}\")\n",
    "        print(f\"Test: {Xtest.shape},{Ytest.shape}\")\n",
    "        \n",
    "        ####train your network here\n",
    "        model = ForecastingModels(Xtrain_a, Ytrain_a, Xval, Yval, Xtest, Ytest, \n",
    "                          neurons=9, num_layers=1, batch_size=256, epochs=100, loss_function='KernelMSE') \n",
    "\n",
    "        # Medir tiempo de RNNSimple_Model\n",
    "        # Entrenar y medir tiempo de cada modelo\n",
    "        \n",
    "        metrics = {}\n",
    "        for model_name, model_func in zip([\"RNNSimple_Model\", \"GRU_Model\", \"LSTM_Model\"],[model.RNNSimple_Model, model.GRU_Model, model.LSTM_Model]):\n",
    "            start = time.perf_counter()\n",
    "            metrics_model, global_metrics_model, history, y_pred = model_func()\n",
    "            end = time.perf_counter()\n",
    "            \n",
    "            metrics[model_name] = {\n",
    "                \"Point\": metrics_model,\n",
    "                \"Global\": global_metrics_model,\n",
    "                \"Ypred\": y_pred, \n",
    "                \"History\": history\n",
    "            }\n",
    "            \n",
    "            print(global_metrics_model['R2 Global'], global_metrics_model['MAPE Global'], global_metrics_model['MAE Global'])\n",
    "            print(f\"Time {model_name}: {end - start} [s]\")\n",
    "\n",
    "        # Guardar resultados en diccionario\n",
    "        results[(names_[datai], thsA[thj].round(3))] = metrics\n",
    "        \n"
   ]
  },
  {
   "cell_type": "code",
   "execution_count": 15,
   "id": "b989328f",
   "metadata": {
    "execution": {
     "iopub.execute_input": "2025-03-12T00:02:35.472458Z",
     "iopub.status.busy": "2025-03-12T00:02:35.472094Z",
     "iopub.status.idle": "2025-03-12T00:02:36.689057Z",
     "shell.execute_reply": "2025-03-12T00:02:36.688135Z"
    },
    "papermill": {
     "duration": 1.41584,
     "end_time": "2025-03-12T00:02:36.690674",
     "exception": false,
     "start_time": "2025-03-12T00:02:35.274834",
     "status": "completed"
    },
    "tags": []
   },
   "outputs": [],
   "source": [
    "import pickle\n",
    "with open(\"/kaggle/working/Results_2.pkl\", \"wb\") as f:\n",
    "    pickle.dump(results, f)"
   ]
  },
  {
   "cell_type": "code",
   "execution_count": null,
   "id": "51de9fae",
   "metadata": {
    "papermill": {
     "duration": 0.276982,
     "end_time": "2025-03-12T00:02:37.169997",
     "exception": false,
     "start_time": "2025-03-12T00:02:36.893015",
     "status": "completed"
    },
    "tags": []
   },
   "outputs": [],
   "source": [
    "\n"
   ]
  }
 ],
 "metadata": {
  "kaggle": {
   "accelerator": "gpu",
   "dataSources": [
    {
     "datasetId": 6816455,
     "sourceId": 10957101,
     "sourceType": "datasetVersion"
    }
   ],
   "dockerImageVersionId": 30919,
   "isGpuEnabled": true,
   "isInternetEnabled": true,
   "language": "python",
   "sourceType": "notebook"
  },
  "kernelspec": {
   "display_name": "Python 3",
   "language": "python",
   "name": "python3"
  },
  "language_info": {
   "codemirror_mode": {
    "name": "ipython",
    "version": 3
   },
   "file_extension": ".py",
   "mimetype": "text/x-python",
   "name": "python",
   "nbconvert_exporter": "python",
   "pygments_lexer": "ipython3",
   "version": "3.10.12"
  },
  "papermill": {
   "default_parameters": {},
   "duration": 30929.751479,
   "end_time": "2025-03-12T00:02:40.364034",
   "environment_variables": {},
   "exception": null,
   "input_path": "__notebook__.ipynb",
   "output_path": "__notebook__.ipynb",
   "parameters": {},
   "start_time": "2025-03-11T15:27:10.612555",
   "version": "2.6.0"
  }
 },
 "nbformat": 4,
 "nbformat_minor": 5
}
